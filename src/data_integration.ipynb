{
 "cells": [
  {
   "cell_type": "markdown",
   "id": "b96daa69-6661-4856-82d5-de72ab507d36",
   "metadata": {},
   "source": [
    "# Data Integration\n",
    "\n",
    "This ipynb file has the logic to retrieve prices of the crypto assets that the user wants to trade with."
   ]
  },
  {
   "cell_type": "code",
   "execution_count": 1,
   "id": "a7fd99cd-dc51-43c3-a587-41b36ad85de9",
   "metadata": {},
   "outputs": [],
   "source": [
    "#Imports\n",
    "import ccxt\n",
    "import os\n",
    "from Historic_Crypto import HistoricalData\n",
    "from pytrends.request import TrendReq\n",
    "from twilio.rest import Client\n",
    "from dotenv import load_dotenv"
   ]
  },
  {
   "cell_type": "code",
   "execution_count": 2,
   "id": "aa4a0a69-ba87-4428-8263-6afaa5eef3c1",
   "metadata": {},
   "outputs": [],
   "source": [
    "# Reading Twilio environment variables\n",
    "load_dotenv()\n",
    "twilio_account_sid = os.getenv(\"twilio_account_sid\")\n",
    "twilio_auth_token = os.getenv(\"twilio_auth_token\")\n",
    "twilio_client = Client(twilio_account_sid, twilio_auth_token)\n",
    "\n",
    "# Preparing ccxt engine\n",
    "exchange_id = 'coinbasepro'\n",
    "exchange_class = getattr(ccxt, exchange_id)\n",
    "exchange = exchange_class({\n",
    "    'timeout': 30000,\n",
    "    'enableRateLimit': True\n",
    "})"
   ]
  },
  {
   "cell_type": "code",
   "execution_count": 3,
   "id": "7e6a5c45-d4a0-40a5-803a-263bd30b5abe",
   "metadata": {},
   "outputs": [],
   "source": [
    "# ccxt.exchanges"
   ]
  },
  {
   "cell_type": "code",
   "execution_count": 4,
   "id": "9d6f06f2-d195-4c8a-a7f9-3407d308fd6a",
   "metadata": {},
   "outputs": [],
   "source": [
    "# Function is to get OHLCV data for a ticker over 1 day period. It uses ccxt library to get the data.\n",
    "# product - Crypto asset to get the data for. Eg. BTC/USD\n",
    "# time - Current time in epoch\n",
    "def retrieve_ohlcv(product):\n",
    "    return exchange.fetch_ohlcv (product, '1m')\n",
    "\n",
    "def get_current_price(product):\n",
    "    price = retrieve_ohlcv(product)[-1][4]\n",
    "    return price"
   ]
  },
  {
   "cell_type": "code",
   "execution_count": 5,
   "id": "34d25de8-9c54-4cdb-ad14-66ac70f917a0",
   "metadata": {},
   "outputs": [],
   "source": [
    "# Function is to get historical data for a ticker as far back as the start date provided at the interval of 1 day. It uses Historic_Crypto library to get the data.\n",
    "# product - Crypto asset to get the data for. Eg. BTC-USD\n",
    "# start_date -  Start date as a string in the format YYYY-MM-DD-HH-MM (str)\n",
    "def retrieve_historical_data(product,start_date):\n",
    "    df = HistoricalData(product, 86400, start_date).retrieve_data()\n",
    "    return df"
   ]
  },
  {
   "cell_type": "code",
   "execution_count": 6,
   "id": "f7c87dc7-38a0-429e-860a-14b81675468a",
   "metadata": {},
   "outputs": [],
   "source": [
    "# Function to send a SMS to the number provided. This is used to notify whether user should buy or not buy the assets.\n",
    "def send_notification_via_sms(number, body):\n",
    "    message = twilio_client.messages.create(\n",
    "        to=number, \n",
    "        from_=\"+18056331101\",\n",
    "        body=body)\n",
    "    return message.sid"
   ]
  },
  {
   "cell_type": "code",
   "execution_count": 7,
   "id": "5d833584-9260-41dd-bb45-490dd36c144e",
   "metadata": {},
   "outputs": [],
   "source": [
    "def get_trend_data(kw):\n",
    "    try:\n",
    "        pytrends = TrendReq(hl='en-US', tz=600)\n",
    "        pytrends.build_payload([kw], cat=0, timeframe='now 1-H', geo='', gprop='')\n",
    "        df = pytrends.interest_over_time()\n",
    "        return df.iloc[-1][0]\n",
    "    except:\n",
    "        return 0"
   ]
  },
  {
   "cell_type": "code",
   "execution_count": null,
   "id": "902517bd-b936-4d53-9f38-78f3a60d8996",
   "metadata": {},
   "outputs": [],
   "source": [
    "\n",
    "# sid = send_notification_via_sms(\"+61406311992\", \"Test\")\n",
    "# print(sid)"
   ]
  },
  {
   "cell_type": "code",
   "execution_count": null,
   "id": "56fc6299-3496-4b87-b8c6-39d8f8059919",
   "metadata": {},
   "outputs": [],
   "source": [
    "# int(time.time() * 1000)\n",
    "\n",
    "# retrieve_ohlcv('BTC/USD')[-1][4]"
   ]
  },
  {
   "cell_type": "code",
   "execution_count": null,
   "id": "b483ac9c-d17a-42aa-9349-f4f6fc443adb",
   "metadata": {},
   "outputs": [],
   "source": [
    "# pytrends = TrendReq(hl='en-US', tz=600)\n",
    "# kw_list = [\"Buy Bitcoin\"]\n",
    "# kw_list_2 = [\"BTC USD\"]\n",
    "# pytrends.build_payload(kw_list, cat=0, timeframe='now 1-H', geo='', gprop='')"
   ]
  },
  {
   "cell_type": "code",
   "execution_count": null,
   "id": "bb069d13-0627-4516-adfa-8284366889e0",
   "metadata": {},
   "outputs": [],
   "source": [
    "# pytrends.interest_over_time()"
   ]
  },
  {
   "cell_type": "code",
   "execution_count": null,
   "id": "acf22930-f164-45e1-b48b-487cb0ebadd2",
   "metadata": {},
   "outputs": [],
   "source": [
    "# pytrends.interest_by_region(resolution='COUNTRY', inc_low_vol=True, inc_geo_code=False)\n",
    "# kw_list = [\"Buy Bitcoin\"]\n",
    "# get_trend_data(kw_list[0])"
   ]
  },
  {
   "cell_type": "code",
   "execution_count": null,
   "id": "30a1e088-6325-4840-bbf4-a6d487558ff6",
   "metadata": {},
   "outputs": [],
   "source": [
    "#Code to get real time price data\n",
    "\n",
    "# Parameters are optional\n",
    "# wsClient = cbpro.WebsocketClient(url=\"wss://ws-feed.pro.coinbase.com\",\n",
    "#                                 products=[\"BTC-USD\"],\n",
    "#                                 channels=[\"ticker\"])\n",
    "# Do other stuff...\n",
    "# wsClient.start()\n",
    "# wsClient.close()"
   ]
  }
 ],
 "metadata": {
  "kernelspec": {
   "display_name": "Python 3",
   "language": "python",
   "name": "python3"
  },
  "language_info": {
   "codemirror_mode": {
    "name": "ipython",
    "version": 3
   },
   "file_extension": ".py",
   "mimetype": "text/x-python",
   "name": "python",
   "nbconvert_exporter": "python",
   "pygments_lexer": "ipython3",
   "version": "3.7.10"
  }
 },
 "nbformat": 4,
 "nbformat_minor": 5
}
