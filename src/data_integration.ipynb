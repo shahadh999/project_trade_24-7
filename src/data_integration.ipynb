{
 "cells": [
  {
   "cell_type": "markdown",
   "id": "b96daa69-6661-4856-82d5-de72ab507d36",
   "metadata": {},
   "source": [
    "# Data Integration\n",
    "\n",
    "This ipynb file has the logic to retrieve prices of the crypto assets that the user wants to trade with."
   ]
  },
  {
   "cell_type": "code",
   "execution_count": 1,
   "id": "a7fd99cd-dc51-43c3-a587-41b36ad85de9",
   "metadata": {},
   "outputs": [],
   "source": [
    "#Imports\n",
    "import ccxt\n",
    "import pandas as pd\n",
    "import os\n",
    "import time\n",
    "from Historic_Crypto import HistoricalData\n",
    "from pytrends.request import TrendReq\n",
    "from twilio.rest import Client\n",
    "from dotenv import load_dotenv"
   ]
  },
  {
   "cell_type": "code",
   "execution_count": 2,
   "id": "aa4a0a69-ba87-4428-8263-6afaa5eef3c1",
   "metadata": {},
   "outputs": [],
   "source": [
    "load_dotenv()\n",
    "twilio_account_sid = os.getenv(\"twilio_account_sid\")\n",
    "twilio_auth_token = os.getenv(\"twilio_auth_token\")\n",
    "\n",
    "twilio_client = Client(twilio_account_sid, twilio_auth_token)\n",
    "exchange_id = 'coinbasepro'"
   ]
  },
  {
   "cell_type": "code",
   "execution_count": 3,
   "id": "2dff09da-cb06-48c6-9142-c98d92062be8",
   "metadata": {},
   "outputs": [
    {
     "name": "stdout",
     "output_type": "stream",
     "text": [
      "['aax', 'aofex', 'ascendex', 'bequant', 'bibox', 'bigone', 'binance', 'binancecoinm', 'binanceus', 'binanceusdm', 'bit2c', 'bitbank', 'bitbay', 'bitbns', 'bitcoincom', 'bitfinex', 'bitfinex2', 'bitflyer', 'bitforex', 'bitget', 'bithumb', 'bitmart', 'bitmex', 'bitpanda', 'bitso', 'bitstamp', 'bitstamp1', 'bittrex', 'bitvavo', 'bitz', 'bl3p', 'braziliex', 'btcalpha', 'btcbox', 'btcmarkets', 'btctradeua', 'btcturk', 'buda', 'bw', 'bybit', 'bytetrade', 'cdax', 'cex', 'coinbase', 'coinbaseprime', 'coinbasepro', 'coincheck', 'coinegg', 'coinex', 'coinfalcon', 'coinfloor', 'coinmarketcap', 'coinmate', 'coinone', 'coinspot', 'crex24', 'currencycom', 'delta', 'deribit', 'digifinex', 'eqonex', 'equos', 'exmo', 'exx', 'flowbtc', 'ftx', 'gateio', 'gemini', 'gopax', 'hbtc', 'hitbtc', 'hollaex', 'huobijp', 'huobipro', 'idex', 'independentreserve', 'indodax', 'itbit', 'kraken', 'kucoin', 'kuna', 'latoken', 'lbank', 'liquid', 'luno', 'lykke', 'mercado', 'mixcoins', 'ndax', 'novadax', 'oceanex', 'okcoin', 'okex', 'okex5', 'paymium', 'phemex', 'poloniex', 'probit', 'qtrade', 'ripio', 'southxchange', 'stex', 'therock', 'tidebit', 'tidex', 'timex', 'upbit', 'vcc', 'wavesexchange', 'whitebit', 'xena', 'yobit', 'zaif', 'zb']\n"
     ]
    }
   ],
   "source": [
    "print(ccxt.exchanges)"
   ]
  },
  {
   "cell_type": "code",
   "execution_count": 4,
   "id": "0f530274-5f27-4301-9c87-6fd5ecbe39cf",
   "metadata": {},
   "outputs": [],
   "source": [
    "exchange_class = getattr(ccxt, exchange_id)\n",
    "exchange = exchange_class({\n",
    "    'timeout': 30000,\n",
    "    'enableRateLimit': True\n",
    "})"
   ]
  },
  {
   "cell_type": "code",
   "execution_count": 5,
   "id": "8b6a3008-ed10-4efd-b116-1f3d6dee98c3",
   "metadata": {},
   "outputs": [
    {
     "name": "stdout",
     "output_type": "stream",
     "text": [
      "{'symbol': 'BTC/USD', 'timestamp': 1625475260281, 'datetime': '2021-07-05T08:54:20.281Z', 'high': None, 'low': None, 'bid': 34257.56, 'bidVolume': None, 'ask': 34257.57, 'askVolume': None, 'vwap': None, 'open': None, 'close': 34259.52, 'last': 34259.52, 'previousClose': None, 'change': None, 'percentage': None, 'average': None, 'baseVolume': 7208.27892002, 'quoteVolume': None, 'info': {'trade_id': '192325665', 'price': '34259.52', 'size': '0.00081356', 'time': '2021-07-05T08:54:20.281722Z', 'bid': '34257.56', 'ask': '34257.57', 'volume': '7208.27892002'}}\n"
     ]
    }
   ],
   "source": [
    "if (exchange.has['fetchTicker']):\n",
    "    print(exchange.fetch_ticker('BTC/USD'))\n",
    "    symbols = list(exchange.markets.keys())"
   ]
  },
  {
   "cell_type": "code",
   "execution_count": 6,
   "id": "30a1e088-6325-4840-bbf4-a6d487558ff6",
   "metadata": {},
   "outputs": [],
   "source": [
    "#Code to get real time price data\n",
    "\n",
    "# Parameters are optional\n",
    "# wsClient = cbpro.WebsocketClient(url=\"wss://ws-feed.pro.coinbase.com\",\n",
    "#                                 products=[\"BTC-USD\"],\n",
    "#                                 channels=[\"ticker\"])\n",
    "# Do other stuff...\n",
    "# wsClient.start()\n",
    "# wsClient.close()"
   ]
  },
  {
   "cell_type": "code",
   "execution_count": 8,
   "id": "9d6f06f2-d195-4c8a-a7f9-3407d308fd6a",
   "metadata": {},
   "outputs": [],
   "source": [
    "\n",
    "# symbol = 'BTC/USD'\n",
    "# time.sleep (exchange.rateLimit / 1000) # time.sleep wants seconds\n",
    "# print (symbol, exchange.fetch_ohlcv (symbol, '1d')) # one day\n",
    "# ls = exchange.fetch_ohlcv (symbol, '1d', since=1625097600000)\n",
    "# len(ls)\n",
    "# ls\n",
    "def retrieve_ohlcv(product, time):\n",
    "    return exchange.fetch_ohlcv (product, '1d', since=time)"
   ]
  },
  {
   "cell_type": "code",
   "execution_count": null,
   "id": "a4928569-6185-4bf8-ae4d-60bbbed24b24",
   "metadata": {},
   "outputs": [],
   "source": [
    "# retrieve_ohlcv('BTC/USD',1625475690.04286)\n",
    "time."
   ]
  },
  {
   "cell_type": "code",
   "execution_count": 9,
   "id": "34d25de8-9c54-4cdb-ad14-66ac70f917a0",
   "metadata": {},
   "outputs": [],
   "source": [
    "def retrieve_historical_data(product,start_date):\n",
    "    return HistoricalData(product, 86400, start_date).retrieve_data()\n",
    "\n"
   ]
  },
  {
   "cell_type": "code",
   "execution_count": 19,
   "id": "9f9b90e8-df85-46fe-9855-653d16f0c36a",
   "metadata": {},
   "outputs": [
    {
     "name": "stdout",
     "output_type": "stream",
     "text": [
      "Checking input parameters are in the correct format...\n",
      "Formatting Dates...\n",
      "Checking if ticker supplied is available on the CoinBase Pro API...\n",
      "Connected to the CoinBase Pro API...\n",
      "Ticker 'ETH-USD' found at the CoinBase Pro API, continuing to extraction...\n",
      "Data for chunk 0 of 5 extracted\n",
      "Data for chunk 1 of 5 extracted\n",
      "Data for chunk 2 of 5 extracted\n",
      "Data for chunk 3 of 5 extracted\n",
      "Data for chunk 4 of 5 extracted\n",
      "Data for chunk 5 of 5 extracted\n"
     ]
    }
   ],
   "source": [
    "eth = retrieve_historical_data('ETH-USD', '2017-01-01-00-00')"
   ]
  },
  {
   "cell_type": "code",
   "execution_count": 20,
   "id": "b4587100-036b-4da2-afcb-5c8faf7e15dc",
   "metadata": {},
   "outputs": [
    {
     "data": {
      "text/html": [
       "<div>\n",
       "<style scoped>\n",
       "    .dataframe tbody tr th:only-of-type {\n",
       "        vertical-align: middle;\n",
       "    }\n",
       "\n",
       "    .dataframe tbody tr th {\n",
       "        vertical-align: top;\n",
       "    }\n",
       "\n",
       "    .dataframe thead th {\n",
       "        text-align: right;\n",
       "    }\n",
       "</style>\n",
       "<table border=\"1\" class=\"dataframe\">\n",
       "  <thead>\n",
       "    <tr style=\"text-align: right;\">\n",
       "      <th></th>\n",
       "      <th>low</th>\n",
       "      <th>high</th>\n",
       "      <th>open</th>\n",
       "      <th>close</th>\n",
       "      <th>volume</th>\n",
       "    </tr>\n",
       "    <tr>\n",
       "      <th>time</th>\n",
       "      <th></th>\n",
       "      <th></th>\n",
       "      <th></th>\n",
       "      <th></th>\n",
       "      <th></th>\n",
       "    </tr>\n",
       "  </thead>\n",
       "  <tbody>\n",
       "    <tr>\n",
       "      <th>2017-01-02</th>\n",
       "      <td>8.05</td>\n",
       "      <td>8.53</td>\n",
       "      <td>8.20</td>\n",
       "      <td>8.38</td>\n",
       "      <td>70490.232630</td>\n",
       "    </tr>\n",
       "    <tr>\n",
       "      <th>2017-01-03</th>\n",
       "      <td>8.24</td>\n",
       "      <td>10.02</td>\n",
       "      <td>8.38</td>\n",
       "      <td>9.59</td>\n",
       "      <td>193090.532562</td>\n",
       "    </tr>\n",
       "    <tr>\n",
       "      <th>2017-01-04</th>\n",
       "      <td>9.34</td>\n",
       "      <td>11.17</td>\n",
       "      <td>9.62</td>\n",
       "      <td>11.17</td>\n",
       "      <td>249702.493122</td>\n",
       "    </tr>\n",
       "    <tr>\n",
       "      <th>2017-01-05</th>\n",
       "      <td>9.08</td>\n",
       "      <td>11.80</td>\n",
       "      <td>11.13</td>\n",
       "      <td>10.23</td>\n",
       "      <td>318195.649664</td>\n",
       "    </tr>\n",
       "    <tr>\n",
       "      <th>2017-01-06</th>\n",
       "      <td>9.52</td>\n",
       "      <td>10.46</td>\n",
       "      <td>10.23</td>\n",
       "      <td>10.14</td>\n",
       "      <td>139579.013575</td>\n",
       "    </tr>\n",
       "    <tr>\n",
       "      <th>...</th>\n",
       "      <td>...</td>\n",
       "      <td>...</td>\n",
       "      <td>...</td>\n",
       "      <td>...</td>\n",
       "      <td>...</td>\n",
       "    </tr>\n",
       "    <tr>\n",
       "      <th>2021-07-01</th>\n",
       "      <td>2072.06</td>\n",
       "      <td>2277.44</td>\n",
       "      <td>2276.74</td>\n",
       "      <td>2107.01</td>\n",
       "      <td>240720.574820</td>\n",
       "    </tr>\n",
       "    <tr>\n",
       "      <th>2021-07-02</th>\n",
       "      <td>2017.07</td>\n",
       "      <td>2159.43</td>\n",
       "      <td>2107.75</td>\n",
       "      <td>2156.00</td>\n",
       "      <td>192127.191224</td>\n",
       "    </tr>\n",
       "    <tr>\n",
       "      <th>2021-07-03</th>\n",
       "      <td>2113.18</td>\n",
       "      <td>2239.69</td>\n",
       "      <td>2156.00</td>\n",
       "      <td>2226.95</td>\n",
       "      <td>98666.791858</td>\n",
       "    </tr>\n",
       "    <tr>\n",
       "      <th>2021-07-04</th>\n",
       "      <td>2190.56</td>\n",
       "      <td>2389.22</td>\n",
       "      <td>2227.46</td>\n",
       "      <td>2323.15</td>\n",
       "      <td>126325.736213</td>\n",
       "    </tr>\n",
       "    <tr>\n",
       "      <th>2021-07-05</th>\n",
       "      <td>2244.08</td>\n",
       "      <td>2324.44</td>\n",
       "      <td>2323.27</td>\n",
       "      <td>2284.94</td>\n",
       "      <td>45920.247592</td>\n",
       "    </tr>\n",
       "  </tbody>\n",
       "</table>\n",
       "<p>1646 rows × 5 columns</p>\n",
       "</div>"
      ],
      "text/plain": [
       "                low     high     open    close         volume\n",
       "time                                                         \n",
       "2017-01-02     8.05     8.53     8.20     8.38   70490.232630\n",
       "2017-01-03     8.24    10.02     8.38     9.59  193090.532562\n",
       "2017-01-04     9.34    11.17     9.62    11.17  249702.493122\n",
       "2017-01-05     9.08    11.80    11.13    10.23  318195.649664\n",
       "2017-01-06     9.52    10.46    10.23    10.14  139579.013575\n",
       "...             ...      ...      ...      ...            ...\n",
       "2021-07-01  2072.06  2277.44  2276.74  2107.01  240720.574820\n",
       "2021-07-02  2017.07  2159.43  2107.75  2156.00  192127.191224\n",
       "2021-07-03  2113.18  2239.69  2156.00  2226.95   98666.791858\n",
       "2021-07-04  2190.56  2389.22  2227.46  2323.15  126325.736213\n",
       "2021-07-05  2244.08  2324.44  2323.27  2284.94   45920.247592\n",
       "\n",
       "[1646 rows x 5 columns]"
      ]
     },
     "execution_count": 20,
     "metadata": {},
     "output_type": "execute_result"
    }
   ],
   "source": [
    "eth\n",
    "# btc = HistoricalData('BTC-USD',86400,'2017-01-01-00-00').retrieve_data()"
   ]
  },
  {
   "cell_type": "code",
   "execution_count": null,
   "id": "3ea2a5f9-83ce-4b6e-a9a5-4f17b6c9133c",
   "metadata": {},
   "outputs": [],
   "source": [
    "btc"
   ]
  },
  {
   "cell_type": "code",
   "execution_count": 18,
   "id": "f7c87dc7-38a0-429e-860a-14b81675468a",
   "metadata": {},
   "outputs": [
    {
     "name": "stdout",
     "output_type": "stream",
     "text": [
      "SM343eb02682f0434babd15ffbdc70a859\n"
     ]
    }
   ],
   "source": [
    "# Your Account SID from twilio.com/console\n",
    "# account_sid = \"AC402b60bdb99f97844fccb51d3b29392f\"\n",
    "# # Your Auth Token from twilio.com/console\n",
    "# auth_token  = \"29c813c28c26822d8f80a277c9465337\"\n",
    "\n",
    "\n",
    "\n",
    "message = twilio_client.messages.create(\n",
    "    to=\"+61451941987\", \n",
    "    from_=\"+18056331101\",\n",
    "    body=\"Trade 24/7\")\n",
    "\n",
    "print(message.sid)"
   ]
  },
  {
   "cell_type": "code",
   "execution_count": null,
   "id": "902517bd-b936-4d53-9f38-78f3a60d8996",
   "metadata": {},
   "outputs": [],
   "source": [
    "pytrends = TrendReq(hl='en-US', tz=600)"
   ]
  },
  {
   "cell_type": "code",
   "execution_count": null,
   "id": "b483ac9c-d17a-42aa-9349-f4f6fc443adb",
   "metadata": {},
   "outputs": [],
   "source": [
    "kw_list = [\"Crypto\",\"Blockchain\",\"Bitcoin\"]\n",
    "pytrends.build_payload(kw_list, cat=0, timeframe='today 5-y', geo='', gprop='')"
   ]
  },
  {
   "cell_type": "code",
   "execution_count": null,
   "id": "bb069d13-0627-4516-adfa-8284366889e0",
   "metadata": {},
   "outputs": [],
   "source": [
    "pytrends.interest_over_time()"
   ]
  },
  {
   "cell_type": "code",
   "execution_count": null,
   "id": "acf22930-f164-45e1-b48b-487cb0ebadd2",
   "metadata": {},
   "outputs": [],
   "source": [
    "pytrends.interest_by_region(resolution='COUNTRY', inc_low_vol=True, inc_geo_code=False)"
   ]
  },
  {
   "cell_type": "code",
   "execution_count": null,
   "id": "d2b8a5bb-ae78-4c85-bb1b-0d358466d731",
   "metadata": {},
   "outputs": [],
   "source": []
  }
 ],
 "metadata": {
  "kernelspec": {
   "display_name": "Python 3",
   "language": "python",
   "name": "python3"
  },
  "language_info": {
   "codemirror_mode": {
    "name": "ipython",
    "version": 3
   },
   "file_extension": ".py",
   "mimetype": "text/x-python",
   "name": "python",
   "nbconvert_exporter": "python",
   "pygments_lexer": "ipython3",
   "version": "3.7.10"
  }
 },
 "nbformat": 4,
 "nbformat_minor": 5
}
