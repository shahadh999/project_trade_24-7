{
 "cells": [
  {
   "cell_type": "markdown",
   "id": "b96daa69-6661-4856-82d5-de72ab507d36",
   "metadata": {},
   "source": [
    "# Data Integration\n",
    "\n",
    "This ipynb file has the logic to retrieve prices of the crypto assets that the user wants to trade with."
   ]
  },
  {
   "cell_type": "code",
   "execution_count": 1,
   "id": "a7fd99cd-dc51-43c3-a587-41b36ad85de9",
   "metadata": {},
   "outputs": [],
   "source": [
    "#Imports\n",
    "import ccxt\n",
    "import os\n",
    "from Historic_Crypto import HistoricalData\n",
    "from pytrends.request import TrendReq\n",
    "from twilio.rest import Client\n",
    "from dotenv import load_dotenv"
   ]
  },
  {
   "cell_type": "code",
   "execution_count": 2,
   "id": "aa4a0a69-ba87-4428-8263-6afaa5eef3c1",
   "metadata": {},
   "outputs": [],
   "source": [
    "# Reading Twilio environment variables\n",
    "load_dotenv()\n",
    "twilio_account_sid = os.getenv(\"twilio_account_sid\")\n",
    "twilio_auth_token = os.getenv(\"twilio_auth_token\")\n",
    "twilio_client = Client(twilio_account_sid, twilio_auth_token)\n",
    "\n",
    "# Preparing ccxt engine\n",
    "exchange_id = 'coinbasepro'\n",
    "exchange_class = getattr(ccxt, exchange_id)\n",
    "exchange = exchange_class({\n",
    "    'timeout': 30000,\n",
    "    'enableRateLimit': True\n",
    "})"
   ]
  },
  {
   "cell_type": "code",
   "execution_count": 3,
   "id": "9d6f06f2-d195-4c8a-a7f9-3407d308fd6a",
   "metadata": {},
   "outputs": [],
   "source": [
    "# Function is to get OHLCV data for a ticker over 1 day period. It uses ccxt library to get the data.\n",
    "# product - Crypto asset to get the data for. Eg. BTC/USD\n",
    "# time - Current time in epoch\n",
    "def retrieve_ohlcv(product, time):\n",
    "    return exchange.fetch_ohlcv (product, '1d', since=time)"
   ]
  },
  {
   "cell_type": "code",
   "execution_count": 7,
   "id": "34d25de8-9c54-4cdb-ad14-66ac70f917a0",
   "metadata": {},
   "outputs": [],
   "source": [
    "# Function is to get historical data for a ticker as far back as the start date provided at the interval of 1 day. It uses Historic_Crypto library to get the data.\n",
    "# product - Crypto asset to get the data for. Eg. BTC-USD\n",
    "# start_date -  Start date as a string in the format YYYY-MM-DD-HH-MM (str)\n",
    "def retrieve_historical_data(product,start_date):\n",
    "    df = HistoricalData(product, 86400, start_date).retrieve_data()\n",
    "    return df"
   ]
  },
  {
   "cell_type": "code",
   "execution_count": 5,
   "id": "f7c87dc7-38a0-429e-860a-14b81675468a",
   "metadata": {},
   "outputs": [],
   "source": [
    "# Function to send a SMS to the number provided. This is used to notify whether user should buy or not buy the assets.\n",
    "def send_notification_via_sms(number, body):\n",
    "    message = twilio_client.messages.create(\n",
    "        to=number, \n",
    "        from_=\"+18056331101\",\n",
    "        body=body)\n",
    "    return message.sid"
   ]
  },
  {
   "cell_type": "code",
   "execution_count": 6,
   "id": "902517bd-b936-4d53-9f38-78f3a60d8996",
   "metadata": {},
   "outputs": [
    {
     "name": "stdout",
     "output_type": "stream",
     "text": [
      "SM73a2722f3ae5499f9693f86ac4e6786c\n"
     ]
    }
   ],
   "source": [
    "# pytrends = TrendReq(hl='en-US', tz=600)\n",
    "# sid = send_notification_via_sms(\"+61406311992\", \"Test\")\n",
    "# print(sid)"
   ]
  },
  {
   "cell_type": "code",
   "execution_count": null,
   "id": "b483ac9c-d17a-42aa-9349-f4f6fc443adb",
   "metadata": {},
   "outputs": [],
   "source": [
    "# kw_list = [\"Crypto\",\"Blockchain\",\"Bitcoin\"]\n",
    "# pytrends.build_payload(kw_list, cat=0, timeframe='today 5-y', geo='', gprop='')"
   ]
  },
  {
   "cell_type": "code",
   "execution_count": null,
   "id": "bb069d13-0627-4516-adfa-8284366889e0",
   "metadata": {},
   "outputs": [],
   "source": [
    "# pytrends.interest_over_time()"
   ]
  },
  {
   "cell_type": "code",
   "execution_count": null,
   "id": "acf22930-f164-45e1-b48b-487cb0ebadd2",
   "metadata": {},
   "outputs": [],
   "source": [
    "# pytrends.interest_by_region(resolution='COUNTRY', inc_low_vol=True, inc_geo_code=False)"
   ]
  },
  {
   "cell_type": "code",
   "execution_count": null,
   "id": "30a1e088-6325-4840-bbf4-a6d487558ff6",
   "metadata": {},
   "outputs": [],
   "source": [
    "#Code to get real time price data\n",
    "\n",
    "# Parameters are optional\n",
    "# wsClient = cbpro.WebsocketClient(url=\"wss://ws-feed.pro.coinbase.com\",\n",
    "#                                 products=[\"BTC-USD\"],\n",
    "#                                 channels=[\"ticker\"])\n",
    "# Do other stuff...\n",
    "# wsClient.start()\n",
    "# wsClient.close()"
   ]
  }
 ],
 "metadata": {
  "kernelspec": {
   "display_name": "Python 3",
   "language": "python",
   "name": "python3"
  },
  "language_info": {
   "codemirror_mode": {
    "name": "ipython",
    "version": 3
   },
   "file_extension": ".py",
   "mimetype": "text/x-python",
   "name": "python",
   "nbconvert_exporter": "python",
   "pygments_lexer": "ipython3",
   "version": "3.7.10"
  }
 },
 "nbformat": 4,
 "nbformat_minor": 5
}
