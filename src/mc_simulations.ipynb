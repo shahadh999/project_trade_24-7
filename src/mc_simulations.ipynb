{
 "cells": [
  {
   "cell_type": "code",
   "execution_count": 1,
   "id": "417208e8",
   "metadata": {},
   "outputs": [],
   "source": [
    "#imports\n",
    "import pandas as pd\n",
    "from MCForecastTools import MCSimulation"
   ]
  },
  {
   "cell_type": "code",
   "execution_count": 2,
   "id": "7e24b947-e98b-42b0-8f1e-47c6cca4fe28",
   "metadata": {},
   "outputs": [],
   "source": [
    "def set_multiindex_for_df(df, index):\n",
    "    df.columns = pd.MultiIndex.from_product([[index], df.columns])\n",
    "    return df\n",
    "\n",
    "def create_concat_df(data):\n",
    "    list_df = []\n",
    "    \n",
    "    for d in data:\n",
    "        data[d] = set_multiindex_for_df(data[d],d)\n",
    "        list_df.append(data[d])\n",
    "    return pd.concat(list_df, axis=\"columns\", join=\"inner\")\n",
    "\n",
    "def create_weight_list(keys, weights):\n",
    "    list_weights =[]\n",
    "    for k in keys:\n",
    "        list_weights.append(weights[k]/100)\n",
    "        \n",
    "    return list_weights\n",
    "\n",
    "def create_mc_simulation_object(data, weights_dict):\n",
    "    df = create_concat_df(data)\n",
    "    weights = create_weight_list(data.keys(), weights_dict)\n",
    "    return MCSimulation(\n",
    "        portfolio_data = df,\n",
    "        weights = weights,\n",
    "        num_simulation = 1000,\n",
    "        num_trading_days = 365*2\n",
    "    )\n",
    "\n",
    "def plot_mc_simulation(mc_crypto):\n",
    "#     mc_crypto = create_mc_simulation_object(data, weights_dict)\n",
    "    return mc_crypto.plot_simulation()\n",
    "\n",
    "def plot_mc_distribution(mc_crypto):\n",
    "    return mc_crypto.calc_cumulative_return()\n",
    "#     mc_crypto = create_mc_simulation_object(data, weights_dict)\n",
    "#     return mc_crypto.plot_distribution()\n",
    "\n",
    "def summarise_cumulative_returns(mc_crypto, seed_investment):\n",
    "    stats = mc_crypto.summarize_cumulative_return()\n",
    "    stats_dict = {}\n",
    "    stats_dict['25%'] = round(stats[4]*seed_investment,2)\n",
    "    stats_dict['50%'] = round(stats[5]*seed_investment,2)\n",
    "    stats_dict['75%'] = round(stats[7]*seed_investment,2)\n",
    "    stats_dict['95%_lower'] = round(stats[8]*seed_investment,2)\n",
    "    stats_dict['95%_upper'] = round(stats[9]*seed_investment,2)\n",
    "    data = [[stat, value]\n",
    "        for stat, value in stats_dict.items()]\n",
    "    return pd.DataFrame(data, columns=['Statistic', 'Value'])"
   ]
  },
  {
   "cell_type": "code",
   "execution_count": 3,
   "id": "c6292a98-8fe3-4b61-8345-788fdc71bd36",
   "metadata": {},
   "outputs": [],
   "source": [
    "# import ccxt\n",
    "# from ipynb.fs.full.data_integration import retrieve_historical_data\n",
    "# import os\n",
    "# import time\n",
    "# from Historic_Crypto import HistoricalData\n",
    "#from pytrends.request import TrendReq\n",
    "#from twilio.rest import Client\n",
    "# import panel as pn\n",
    "# from panel.interact import interact\n",
    "# import matplotlib.pyplot as plt\n",
    "# pn.extension(\"plotly\")\n",
    "# def get_data_from_api(tickers_selected):\n",
    "#     data_dict = {}\n",
    "#     start_date = '2019-10-01-00-00'\n",
    "#     for ticker in tickers_selected:\n",
    "#         df = retrieve_historical_data(ticker, start_date)\n",
    "#         data_dict[ticker] = df\n",
    "#     return data_dict"
   ]
  },
  {
   "cell_type": "code",
   "execution_count": null,
   "id": "d8a42697",
   "metadata": {},
   "outputs": [],
   "source": [
    "# weights = {'ETH-USD': 50,'BTC-USD':50}\n",
    "# data = get_data_from_api(['ETH-USD', 'BTC-USD'])\n"
   ]
  },
  {
   "cell_type": "code",
   "execution_count": null,
   "id": "605b6ff5",
   "metadata": {},
   "outputs": [],
   "source": [
    "# eth\n",
    "# plot_mc_simulation(data, weights)\n",
    "# mc_df = calc_cumulative_returns(data, weights)\n",
    "# mc_crypto = create_mc_simulation_object(data, weights)\n",
    "# df = plot_mc_distribution(mc_crypto)"
   ]
  },
  {
   "cell_type": "code",
   "execution_count": null,
   "id": "2ba49fc6",
   "metadata": {},
   "outputs": [],
   "source": [
    "# btc\n",
    "# mc_df\n",
    "# df"
   ]
  },
  {
   "cell_type": "code",
   "execution_count": null,
   "id": "6c813299",
   "metadata": {},
   "outputs": [],
   "source": [
    "# eth.columns = pd.MultiIndex.from_product([['ETH'], eth.columns])\n",
    "# eth"
   ]
  },
  {
   "cell_type": "code",
   "execution_count": null,
   "id": "1efe2af4",
   "metadata": {},
   "outputs": [],
   "source": [
    "# btc.columns = pd.MultiIndex.from_product([['BTC'], btc.columns])\n",
    "# btc"
   ]
  },
  {
   "cell_type": "code",
   "execution_count": null,
   "id": "a6b4895e",
   "metadata": {},
   "outputs": [],
   "source": [
    "#Creating a dataframe\n",
    "# portfolio_data = pd.concat([eth, btc], axis=\"columns\", join=\"inner\")\n",
    "#portfolio_data.columns = [Eth,Btc]\n",
    "# portfolio_data\n"
   ]
  },
  {
   "cell_type": "code",
   "execution_count": null,
   "id": "750b4ad2",
   "metadata": {},
   "outputs": [],
   "source": [
    "\n",
    "\n",
    "# Configure a Monte Carlo simulation to forecast two year daily returns\n",
    "# MC_crypto = MCSimulation(\n",
    "#     portfolio_data = portfolio_data,\n",
    "#     weights = [.5,.5],\n",
    "#     num_simulation = 500,\n",
    "#     num_trading_days = 252*2\n",
    "# )\n",
    "\n",
    "#Print the simulation input data \n",
    "# MC_crypto.portfolio_data.head()"
   ]
  },
  {
   "cell_type": "code",
   "execution_count": null,
   "id": "782a3b5f",
   "metadata": {},
   "outputs": [],
   "source": [
    "# Run a Monte Carlo simulation to forecast five years cumulative returns\n",
    "# MC_df=MC_crypto.calc_cumulative_return()"
   ]
  },
  {
   "cell_type": "markdown",
   "id": "97aabfeb",
   "metadata": {},
   "source": [
    "### Visualize the Results"
   ]
  },
  {
   "cell_type": "code",
   "execution_count": null,
   "id": "59781d64",
   "metadata": {},
   "outputs": [],
   "source": [
    "#Plot simulations\n",
    "# crypto_line_plot = MC_crypto.plot_simulation()\n",
    "#df = px.data.gapminder().query(\"country=='Canada'\")\n",
    "#MC_df=MC_crypto\n",
    "#fig=px.line(MC_crypto, x=\"days\", y=\"Return\", title=\"Cumulative Portfolio Return\")\n",
    "#fig.show()\n",
    "#px.line(MC_df, x=MC_df.index, y=MC_df.columns)\n"
   ]
  },
  {
   "cell_type": "code",
   "execution_count": null,
   "id": "8625853f",
   "metadata": {},
   "outputs": [],
   "source": [
    "# Plot probability distribution and confidence intervals\n",
    "# dist_plot = MC_crypto.plot_distribution()"
   ]
  },
  {
   "cell_type": "code",
   "execution_count": null,
   "id": "ba0b52fc",
   "metadata": {},
   "outputs": [],
   "source": [
    "# Fetch summary statistics from the Monte Carlo simulation results\n",
    "# sum_stats = MC_crypto.summarize_cumulative_return()\n",
    "\n",
    "# Print summary statistics\n",
    "# print(sum_stats)"
   ]
  },
  {
   "cell_type": "markdown",
   "id": "e4dd8c11",
   "metadata": {},
   "source": [
    "### Determine Upper and Lower Confidence Intervals"
   ]
  },
  {
   "cell_type": "code",
   "execution_count": null,
   "id": "3f04d26b",
   "metadata": {},
   "outputs": [],
   "source": [
    "# Using lower and upper `95%` confidence intervals to calculate the range of the possible outcomes of our XXXX $15,000 investments in cryptocurrency\n",
    "# even_ci_lower = round(sum_stats[8]*15000,2)\n",
    "# even_ci_upper = round(sum_stats[9]*15000,2)\n",
    "\n",
    "# Print results\n",
    "# print(f\"There is a 95% chance that an initial investment of $15,000 in the portfolio\"\n",
    "#       f\" over the next 5 years will end within in the range of\"\n",
    "#       f\" ${even_ci_lower} and ${even_ci_upper}.\")"
   ]
  }
 ],
 "metadata": {
  "kernelspec": {
   "display_name": "Python 3",
   "language": "python",
   "name": "python3"
  },
  "language_info": {
   "codemirror_mode": {
    "name": "ipython",
    "version": 3
   },
   "file_extension": ".py",
   "mimetype": "text/x-python",
   "name": "python",
   "nbconvert_exporter": "python",
   "pygments_lexer": "ipython3",
   "version": "3.7.10"
  }
 },
 "nbformat": 4,
 "nbformat_minor": 5
}
